{
  "nbformat": 4,
  "nbformat_minor": 0,
  "metadata": {
    "kernelspec": {
      "display_name": "Python 3",
      "language": "python",
      "name": "python3"
    },
    "language_info": {
      "codemirror_mode": {
        "name": "ipython",
        "version": 3
      },
      "file_extension": ".py",
      "mimetype": "text/x-python",
      "name": "python",
      "nbconvert_exporter": "python",
      "pygments_lexer": "ipython3",
      "version": "3.6.7"
    },
    "colab": {
      "name": "PMC.ipynb",
      "provenance": [],
      "collapsed_sections": []
    }
  },
  "cells": [
    {
      "cell_type": "markdown",
      "metadata": {
        "id": "BQs96GGYN3-R",
        "colab_type": "text"
      },
      "source": [
        "# Python Mini Challenges\n",
        "\n",
        "The most entertaining(and satisfying) way to improve your skills in a programming language is by doing challenges. Every challenge that is given in this assessment module can be solved by a bit of python programming and logical thinking.\n",
        "\n",
        "Some challenges may look easy,some may look tough but we hope you solve them all with the same vigour.\n",
        "\n",
        "All the best."
      ]
    },
    {
      "cell_type": "markdown",
      "metadata": {
        "id": "f7xPtvF_N3-V",
        "colab_type": "text"
      },
      "source": [
        "# Smallest Palindrome\n",
        "\n",
        "\n",
        "Create a function called `palindrome(num)` that given a number `'num'`, finds the next smallest palindrome and returns it\n",
        "\n",
        "For eg:\n",
        "***\n",
        "**Input**\n",
        "\n",
        "```python\n",
        "palindrome(123)\n",
        "```\n",
        "\n",
        "**Output**\n",
        "```python\n",
        "131\n",
        "```\n",
        "***\n",
        "**Input**\n",
        "\n",
        "```python\n",
        "palindrome(1331)\n",
        "```\n",
        "\n",
        "**Output**\n",
        "```python\n",
        "1441\n",
        "```\n"
      ]
    },
    {
      "cell_type": "markdown",
      "metadata": {
        "id": "rhbl4whqN3-X",
        "colab_type": "text"
      },
      "source": [
        "# Hints\n",
        "You can check for a palindrome by writing code similar to:\n",
        "```python\n",
        "num=str(num)\n",
        "print(num[::-1]==num)\n",
        "\n",
        "```\n",
        "\n",
        "# Test Cases\n",
        "\n",
        "Function declaration check\n",
        "\n",
        "(palindrome(8)==9)\n",
        "\n",
        "(palindrome(12)==22)\n",
        "\n",
        "(palindrome(13456)==13531)\n"
      ]
    },
    {
      "cell_type": "code",
      "metadata": {
        "id": "KgB58ZGjN3-Y",
        "colab_type": "code",
        "colab": {}
      },
      "source": [
        ""
      ],
      "execution_count": 0,
      "outputs": []
    },
    {
      "cell_type": "markdown",
      "metadata": {
        "id": "nAJuHtMoN3-h",
        "colab_type": "text"
      },
      "source": [
        "# Success Message\n",
        "\n",
        "Congrats! You have successfully finished this challenge."
      ]
    },
    {
      "cell_type": "markdown",
      "metadata": {
        "id": "M8RAFjWFN3-i",
        "colab_type": "text"
      },
      "source": [
        "# Anagram Scramble\n",
        "\n",
        "Create a function called `'a_scramble(str_1, str_2)'` that given the strings`'str_1'`,`'str_2'` returns `True` if a portion of `'str_1'` characters can be scrambled to match `'str2'`, else return `False`\n",
        "\n",
        "For eg:\n",
        "***\n",
        "**Input**\n",
        "\n",
        "```python\n",
        "a_scramble(\"Tom Marvolo Riddle\",\"Voldemort\")\n",
        "```\n",
        "\n",
        "**Output**\n",
        "```python\n",
        "True\n",
        "```\n",
        "***\n",
        "**Input**\n",
        "\n",
        "```python\n",
        "a_scramble(\"ticket\",\"chat\")\n",
        "```\n",
        "\n",
        "**Output**\n",
        "```python\n",
        "False\n",
        "```\n"
      ]
    },
    {
      "cell_type": "markdown",
      "metadata": {
        "id": "jLj344lFN3-j",
        "colab_type": "text"
      },
      "source": [
        "# Hints\n",
        "\n",
        "For the case where `str_1=\"skatepark\"` and `str_2=\"sparks\"`, the function should return False because `'str_1'` has only one occurence of `s`\n",
        "\n",
        "You can implement that by removing the occurence of the character from str_1 after comparing it with characters from str_2.\n",
        "    \n",
        "\n",
        "# Test Cases\n",
        "\n",
        "\n",
        "a_scramble(\"labratory\",\"Bat\")==True\n",
        "\n",
        "a_scramble(\"baby shower\",\"shows\")==False\n",
        "\n",
        "a_scramble(\"eatcher\",\"teacher\")==True\n",
        "\n"
      ]
    },
    {
      "cell_type": "code",
      "metadata": {
        "id": "70P3UCwzN3-k",
        "colab_type": "code",
        "colab": {}
      },
      "source": [
        ""
      ],
      "execution_count": 0,
      "outputs": []
    },
    {
      "cell_type": "markdown",
      "metadata": {
        "id": "8wIbcwK1N3-p",
        "colab_type": "text"
      },
      "source": [
        "# Success Message\n",
        "\n",
        "Congrats! You have successfully finished this challenge."
      ]
    },
    {
      "cell_type": "markdown",
      "metadata": {
        "id": "cKRsSV4PN3-q",
        "colab_type": "text"
      },
      "source": [
        "# Fibonacci Check\n",
        "\n",
        "Create a function called `check_fib(num)` that checks if the given number `'num'` is part of the [fibonacci sequence](https://en.wikipedia.org/wiki/Fibonacci_number) and returns `True` if it is, else `False`\n",
        "\n",
        "For eg:\n",
        "***\n",
        "**Input**\n",
        "\n",
        "```python\n",
        "check_fib(145)\n",
        "```\n",
        "\n",
        "**Output**\n",
        "```python\n",
        "False\n",
        "```\n",
        "***\n",
        "**Input**\n",
        "\n",
        "```python\n",
        "check_fib(377)\n",
        "```\n",
        "\n",
        "**Output**\n",
        "```python\n",
        "True\n",
        "```\n",
        "\n",
        "\n"
      ]
    },
    {
      "cell_type": "markdown",
      "metadata": {
        "id": "ZJdToExpN3-s",
        "colab_type": "text"
      },
      "source": [
        "# Hints\n",
        "A number `'n'` is part of fibonacci sequence if\n",
        "`(5*n*n) + 4)` or `((5*n*n) - 4)` or `both` is a perfect square\n",
        "\n",
        "\n",
        "# Test Cases\n",
        "\n",
        "check_fib(456)==False\n",
        "\n",
        "check_fib(987)==True"
      ]
    },
    {
      "cell_type": "code",
      "metadata": {
        "id": "ZRz-dfrrN3-u",
        "colab_type": "code",
        "colab": {}
      },
      "source": [
        ""
      ],
      "execution_count": 0,
      "outputs": []
    },
    {
      "cell_type": "markdown",
      "metadata": {
        "id": "cAEzscC9N3-y",
        "colab_type": "text"
      },
      "source": [
        "# Success Message\n",
        "\n",
        "Congrats! You have successfully finished this challenge."
      ]
    },
    {
      "cell_type": "markdown",
      "metadata": {
        "id": "osK3z_CoN3-1",
        "colab_type": "text"
      },
      "source": [
        "# String Compression\n",
        "\n",
        "Write a function `compress(word)` that given a word `word` returns the string with it's letters and how many times they occur continously together.\n",
        "\n",
        "For eg:\n",
        "\n",
        "***\n",
        "**Input**\n",
        "\n",
        "```python\n",
        "a_scramble(\"abbs\")\n",
        "```\n",
        "\n",
        "**Output**\n",
        "```python\n",
        "\"a1b2s1\"\n",
        "```\n",
        "Explanation: 1 occurence of `a`, followed by 2 occurences of `b`, followed by 1 occurence of `s`\n",
        "***\n",
        "**Input**\n",
        "\n",
        "```python\n",
        "compress(\"xxcccdex\")\n",
        "```\n",
        "\n",
        "**Output**\n",
        "```python\n",
        "\"x2c3d1e1x1\"\n",
        "```\n",
        "\n",
        "Explanation: 2 occurences of `x`, followed by 3 occurences of `c`, followed by 1 occurence of `d`, followed by 1 occurence of `e`, followed by 1 occurence of `x`"
      ]
    },
    {
      "cell_type": "markdown",
      "metadata": {
        "id": "wu8IJw6XN3-3",
        "colab_type": "text"
      },
      "source": [
        "# Hints\n",
        "\n",
        "You can take care of different cases of letters in a string by using `\"str.lower()\"`\n",
        "\n",
        "# Test Cases\n",
        "\n",
        "compress('Ss')=='s2'\n",
        "\n",
        "compress('ssggtts')=='s2g2t2s1'\n",
        "\n",
        "compress('banana')=='b1a1n1a1n1a1'"
      ]
    },
    {
      "cell_type": "code",
      "metadata": {
        "id": "VmxYDRg5N3-5",
        "colab_type": "code",
        "colab": {}
      },
      "source": [
        ""
      ],
      "execution_count": 0,
      "outputs": []
    },
    {
      "cell_type": "markdown",
      "metadata": {
        "id": "LbFlPWA2N3--",
        "colab_type": "text"
      },
      "source": [
        "# Success Message\n",
        "\n",
        "Congrats! You have successfully finished this challenge."
      ]
    },
    {
      "cell_type": "markdown",
      "metadata": {
        "id": "KdACLfoMN3-_",
        "colab_type": "text"
      },
      "source": [
        "# K-Distinct\n",
        "\n",
        "Write a function `k_distinct(string,k)` that given a string `'string'` and number `'k'`, it checks whether the `'string'` has `'k'` distinct characters\n",
        "\n",
        "For eg:\n",
        "***\n",
        "**Input**\n",
        "\n",
        "```python\n",
        "k_distinct('Messoptamia',8)\n",
        "```\n",
        "\n",
        "**Output**\n",
        "```python\n",
        "True\n",
        "```\n",
        "***\n",
        "**Input**\n",
        "\n",
        "```python\n",
        "k_distinct('banana',4)\n",
        "```\n",
        "\n",
        "**Output**\n",
        "```python\n",
        "False\n",
        "```\n"
      ]
    },
    {
      "cell_type": "markdown",
      "metadata": {
        "id": "2Yc6VqB7N3_B",
        "colab_type": "text"
      },
      "source": [
        "# Hints\n",
        "\n",
        "You can take care of different cases of letters in a string by using `\"str.lower()\"`\n",
        "\n",
        "\n",
        "# Test Cases\n",
        "\n",
        "\n",
        "k_distinct('SUBBOOKKEEPER',8)==True\n",
        "\n",
        "k_distinct('Rhythm',6)==False\n",
        "\n",
        "k_distinct('Falafel',5)==False"
      ]
    },
    {
      "cell_type": "code",
      "metadata": {
        "id": "A87nE5__N3_C",
        "colab_type": "code",
        "colab": {}
      },
      "source": [
        ""
      ],
      "execution_count": 0,
      "outputs": []
    },
    {
      "cell_type": "markdown",
      "metadata": {
        "id": "0SUIWtnlN3_G",
        "colab_type": "text"
      },
      "source": [
        "# Success Message\n",
        "\n",
        "Congrats! You have successfully finished this challenge."
      ]
    }
  ]
}