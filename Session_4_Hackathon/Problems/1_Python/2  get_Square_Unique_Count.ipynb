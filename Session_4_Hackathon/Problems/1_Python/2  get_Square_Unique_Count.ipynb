{
  "nbformat": 4,
  "nbformat_minor": 0,
  "metadata": {
    "colab": {
      "name": "get_Square_Unique_Count.ipynb",
      "provenance": [],
      "collapsed_sections": []
    },
    "kernelspec": {
      "name": "python3",
      "display_name": "Python 3"
    }
  },
  "cells": [
    {
      "cell_type": "markdown",
      "metadata": {
        "id": "2O2yYEtoP5Mw",
        "colab_type": "text"
      },
      "source": [
        "### Get Square Unique Count\n",
        "We define a square number to be an integer whose square root is another integer. \n",
        "\n",
        "For example, 1, 4, 9, and 16 are all square numbers as they are the respective squares of 1, 2, 3, and 4. \n",
        "\n",
        "I have two integers, a and b, and wants to count the number of square numbers in the inclusive interval [a, b]. \n",
        "\n",
        "For example, if a = 4 and b =10,\n",
        "\n",
        "My count would be 2 because the only square numbers in {4, 5, 6, 7, 8, 9} are 4 and 9. \n"
      ]
    },
    {
      "cell_type": "code",
      "metadata": {
        "id": "F3XGMHQpP7xy",
        "colab_type": "code",
        "colab": {}
      },
      "source": [
        "def q01_get_minimum_unique_square(x,y):\n",
        "  pass"
      ],
      "execution_count": 0,
      "outputs": []
    },
    {
      "cell_type": "code",
      "metadata": {
        "id": "AY40ZStKQEre",
        "colab_type": "code",
        "colab": {}
      },
      "source": [
        ""
      ],
      "execution_count": 0,
      "outputs": []
    }
  ]
}