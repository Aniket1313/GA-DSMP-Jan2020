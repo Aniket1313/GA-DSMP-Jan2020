{
  "nbformat": 4,
  "nbformat_minor": 0,
  "metadata": {
    "colab": {
      "name": "Untitled0.ipynb",
      "provenance": [],
      "collapsed_sections": []
    },
    "kernelspec": {
      "name": "python3",
      "display_name": "Python 3"
    }
  },
  "cells": [
    {
      "cell_type": "markdown",
      "metadata": {
        "id": "v_7As_kZOnrE",
        "colab_type": "text"
      },
      "source": [
        "### Longest Even Length Word\n",
        "Consider a string, sentence, of space-separated words where each word is a substring consisting of English alphabetic letters only.\n",
        "We want to find the first word in sentence having a length which is both an even number and greater than or\n",
        "equal to the length of any other word of even length in the sentence. \n",
        "\n",
        "For example, if sentence is `Time to write great code` , then the word we're looking for is Time .\n",
        "\n",
        "While code and Time are of maximal length, Time occurs first. \n",
        "If sentence is `Write code for a great time` , then the word we're looking for is code.  "
      ]
    },
    {
      "cell_type": "code",
      "metadata": {
        "id": "uVkk0tAROpMa",
        "colab_type": "code",
        "colab": {}
      },
      "source": [
        "data1 = 'One great way to make predictions about an unfamiliar nonfiction text is to take a walk through the book before reading.'\n",
        "data2 = 'photographs or other images, readers can start to get a sense about the topic. This scanning and skimming helps set the expectation for the reading.'\n",
        "data3 = ' testing very9 important'"
      ],
      "execution_count": 0,
      "outputs": []
    },
    {
      "cell_type": "code",
      "metadata": {
        "id": "QHYzvKW0OxYI",
        "colab_type": "code",
        "colab": {}
      },
      "source": [
        "def q01_longest_even_word(sentence):\n",
        "    pass"
      ],
      "execution_count": 0,
      "outputs": []
    },
    {
      "cell_type": "code",
      "metadata": {
        "id": "SqOygkyJOzgh",
        "colab_type": "code",
        "colab": {}
      },
      "source": [
        "# q01_longest_even_word(data3)"
      ],
      "execution_count": 0,
      "outputs": []
    }
  ]
}